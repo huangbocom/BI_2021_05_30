{
 "cells": [
  {
   "cell_type": "code",
   "execution_count": 13,
   "metadata": {},
   "outputs": [
    {
     "name": "stdout",
     "output_type": "stream",
     "text": [
      "[[ 500  550  630 1000  800  700]\n",
      " [ 800  700  600  950  900  930]\n",
      " [1000  960  840  650  600  700]\n",
      " [1200 1040  980  860  880  780]]\n",
      "target 284230.0\n",
      "varialbe [[0.0, 0.0, 6.0, 39.0, 31.0, 0.0], [0.0, 0.0, 0.0, 0.0, 29.0, 59.0], [2.0, 56.0, 38.0, 0.0, 0.0, 0.0], [40.0, 0.0, 0.0, 0.0, 0.0, 0.0]]\n"
     ]
    }
   ],
   "source": [
    "import pulp\n",
    "import numpy as np\n",
    "\n",
    "\n",
    "def farm_program(costs, max_farm, max_area):\n",
    "\t\trow = len(costs)\n",
    "\t\tcol = len(costs[0])\n",
    "\t\tprob = pulp.LpProblem('Farm', sense= pulp.LpMaximize)\n",
    "\t\tvar = [[pulp.LpVariable(f'x{i}{j}',lowBound=0) for j in range(col)]\n",
    "\t\t\t\t\t\tfor i in range(row)] \n",
    "\t\tflatten = lambda x:[y for l in x for y in flatten(l)] if type(x) is list else [x]\n",
    "\t\tprob +=pulp.lpDot(flatten(var), costs.flatten())\n",
    "\t\tfor i in range(row):\n",
    "\t\t\t\tprob += pulp.lpSum(var[i]) <= max_farm[i]\n",
    "\t\tfor j in range(col):\n",
    "\t\t\t\tprob += pulp.lpSum(var[i][j] for i in range(row)) <= max_area[j] \n",
    "\t\tprob.solve()\n",
    "\t\tprint('target', pulp.value(prob.objective))\n",
    "\t\tprint('varialbe', [[pulp.value(var[i][j]) for j in range(col)] for i in range(row)])\n",
    "costs = np.array([ [500,550,630,1000,800,700],\n",
    "\t\t\t\t\t[800,700,600,950,900,930],\n",
    "\t\t\t\t\t[1000,960,840,650,600,700],\n",
    "\t\t\t\t\t[1200,1040,980,860,880,780]])\n",
    "\n",
    "print(costs)\n",
    "\n",
    "max_farm = [76,88,96,40]\n",
    "max_area = [42,56,44,39,60,59]\n",
    "\n",
    "result = farm_program(costs, max_farm, max_area)"
   ]
  },
  {
   "cell_type": "code",
   "execution_count": null,
   "metadata": {},
   "outputs": [],
   "source": []
  }
 ],
 "metadata": {
  "kernelspec": {
   "display_name": "Python 3",
   "language": "python",
   "name": "python3"
  },
  "language_info": {
   "codemirror_mode": {
    "name": "ipython",
    "version": 3
   },
   "file_extension": ".py",
   "mimetype": "text/x-python",
   "name": "python",
   "nbconvert_exporter": "python",
   "pygments_lexer": "ipython3",
   "version": "3.8.3"
  }
 },
 "nbformat": 4,
 "nbformat_minor": 4
}
